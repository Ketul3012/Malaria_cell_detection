{
 "cells": [
  {
   "cell_type": "code",
   "execution_count": null,
   "metadata": {},
   "outputs": [],
   "source": [
    "import os "
   ]
  },
  {
   "cell_type": "code",
   "execution_count": null,
   "metadata": {},
   "outputs": [],
   "source": [
    "import numpy as np"
   ]
  },
  {
   "cell_type": "code",
   "execution_count": null,
   "metadata": {},
   "outputs": [],
   "source": [
    "import cv2"
   ]
  },
  {
   "cell_type": "code",
   "execution_count": null,
   "metadata": {},
   "outputs": [],
   "source": [
    "train_data = []\n",
    "\n",
    "data_dir_parasitized =\"Parasitized\"\n",
    "data_dir_uninfected =\"Uninfected\"\n",
    "\n",
    "parasitized = [0,1]\n",
    "uninfected = [1,0]\n",
    "\n",
    "for i in os.listdir(data_dir_parasitized):\n",
    "    img = cv2.imread(os.path.join(data_dir_parasitized ,i))\n",
    "    if img is None:\n",
    "        continue\n",
    "    img = cv2.resize(img , (40,40))\n",
    "    img = np.array(img)\n",
    "    train_data.append([img,parasitized])\n",
    "    \n",
    "for i in os.listdir(data_dir_uninfected):\n",
    "    img = cv2.imread(os.path.join(data_dir_uninfected,i))\n",
    "    if img is None:\n",
    "        continue\n",
    "    img = cv2.resize(img , (40,40))\n",
    "    img = np.array(img)\n",
    "    train_data.append([img,uninfected])\n",
    "  "
   ]
  },
  {
   "cell_type": "code",
   "execution_count": null,
   "metadata": {},
   "outputs": [],
   "source": [
    "from random import shuffle"
   ]
  },
  {
   "cell_type": "code",
   "execution_count": null,
   "metadata": {},
   "outputs": [],
   "source": [
    "shuffle(train_data)"
   ]
  },
  {
   "cell_type": "code",
   "execution_count": null,
   "metadata": {},
   "outputs": [],
   "source": []
  },
  {
   "cell_type": "code",
   "execution_count": null,
   "metadata": {},
   "outputs": [],
   "source": [
    "train_data_ = []\n",
    "\n",
    "train_label_ = []\n",
    "\n",
    "for i in train_data:\n",
    "    train_data_.append(i[0])\n",
    "    train_label_.append(i[1])\n",
    "\n"
   ]
  },
  {
   "cell_type": "code",
   "execution_count": null,
   "metadata": {},
   "outputs": [],
   "source": [
    "train_data_np = np.array(train_data_)\n",
    "train_label_np = np.array(train_label_)"
   ]
  },
  {
   "cell_type": "code",
   "execution_count": null,
   "metadata": {},
   "outputs": [],
   "source": [
    "np.save(\"train_maleria_np.npy\", train_data_np)\n",
    "np.save(\"train_label_maleria.npy\", train_label_np)\n"
   ]
  },
  {
   "cell_type": "code",
   "execution_count": null,
   "metadata": {},
   "outputs": [],
   "source": []
  }
 ],
 "metadata": {
  "kernelspec": {
   "display_name": "Python 3",
   "language": "python",
   "name": "python3"
  },
  "language_info": {
   "codemirror_mode": {
    "name": "ipython",
    "version": 3
   },
   "file_extension": ".py",
   "mimetype": "text/x-python",
   "name": "python",
   "nbconvert_exporter": "python",
   "pygments_lexer": "ipython3",
   "version": "3.6.8"
  }
 },
 "nbformat": 4,
 "nbformat_minor": 2
}
